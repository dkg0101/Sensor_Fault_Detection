{
 "cells": [
  {
   "cell_type": "code",
   "execution_count": null,
   "metadata": {},
   "outputs": [],
   "source": [
    "#getting mongodb url variable from local enviroment variables\n",
    "import os\n",
    "\n",
    "mongo_db_url = os.environ.get(\"MONGO_DB_URL\")\n",
    "\n",
    "if mongo_db_url:\n",
    "    print(f\"The MongoDB URL is: {mongo_db_url}\")\n",
    "else:\n",
    "    print(\"MONGO_DB_URL is not set in the environment.\")\n"
   ]
  },
  {
   "cell_type": "code",
   "execution_count": null,
   "metadata": {},
   "outputs": [],
   "source": [
    "import pymongo\n",
    "import certifi\n",
    "ca =certifi.where()\n",
    "\n",
    "client = pymongo.MongoClient(\"mongodb+srv://test:<password>@cluster0.jys9xir.mongodb.net/?retryWrites=true&w=majority\",tlsCAFile=ca)"
   ]
  },
  {
   "cell_type": "code",
   "execution_count": null,
   "metadata": {},
   "outputs": [],
   "source": [
    "#using magic method\n",
    "%env MONGO_DB_URL\n"
   ]
  },
  {
   "cell_type": "code",
   "execution_count": null,
   "metadata": {},
   "outputs": [],
   "source": [
    "#connecting to database\n",
    "import pymongo\n",
    "import certifi\n",
    "ca =certifi.where()\n",
    "mongo_db_url = os.getenv(\"MONGO_DB_URL\")\n",
    "\n",
    "client = pymongo.MongoClient(mongo_db_url,tlsCAFile=ca)\n",
    "db  = client['ineuron']"
   ]
  },
  {
   "cell_type": "code",
   "execution_count": null,
   "metadata": {},
   "outputs": [],
   "source": [
    "# Get a list of collection names in the database\n",
    "collection_names = db.list_collection_names()\n",
    "collection_names"
   ]
  },
  {
   "cell_type": "markdown",
   "metadata": {},
   "source": []
  },
  {
   "cell_type": "code",
   "execution_count": null,
   "metadata": {},
   "outputs": [],
   "source": []
  }
 ],
 "metadata": {
  "kernelspec": {
   "display_name": "Python 3",
   "language": "python",
   "name": "python3"
  },
  "language_info": {
   "codemirror_mode": {
    "name": "ipython",
    "version": 3
   },
   "file_extension": ".py",
   "mimetype": "text/x-python",
   "name": "python",
   "nbconvert_exporter": "python",
   "pygments_lexer": "ipython3",
   "version": "3.8.0"
  }
 },
 "nbformat": 4,
 "nbformat_minor": 2
}
